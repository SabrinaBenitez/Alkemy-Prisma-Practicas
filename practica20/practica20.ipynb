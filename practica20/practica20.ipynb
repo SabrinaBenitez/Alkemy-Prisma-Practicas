{
  "nbformat": 4,
  "nbformat_minor": 0,
  "metadata": {
    "colab": {
      "provenance": []
    },
    "kernelspec": {
      "name": "python3",
      "display_name": "Python 3"
    },
    "language_info": {
      "name": "python"
    }
  },
  "cells": [
    {
      "cell_type": "code",
      "execution_count": 2,
      "metadata": {
        "id": "VGGoBwkF21dQ"
      },
      "outputs": [],
      "source": [
        "# Import main libraries\n",
        "import sqlite3\n",
        "import pandas as pd\n",
        "import sqlalchemy as db"
      ]
    },
    {
      "cell_type": "code",
      "source": [
        "# Conectarse a la url que contiene el archivo CSV de medallas olímpicas\n",
        "df = pd.read_csv('http://winterolympicsmedals.com/medals.csv')\n",
        "df"
      ],
      "metadata": {
        "id": "psuFyiA727JW"
      },
      "execution_count": null,
      "outputs": []
    },
    {
      "cell_type": "code",
      "source": [
        "# Descargar los datos y obtener un sub dataset que contenga atodas las medallas de oro (Gold) Estados Unidos (USA) \n",
        "#a partir del año 1950.\n",
        "gold=df[(df['Medal'] == 'Gold') & (df['NOC'] == 'USA') & (df['Year'] >= 1950)]\n",
        "gold"
      ],
      "metadata": {
        "id": "6pTS6MZu7E91"
      },
      "execution_count": null,
      "outputs": []
    },
    {
      "cell_type": "code",
      "source": [
        "# Crear una conexión a la base de datos\n",
        "conn = sqlite3.connect('olympics.db')\n",
        "\n",
        "# Crear un cursor\n",
        "cursor = conn.cursor()\n"
      ],
      "metadata": {
        "id": "xjn7yQO9BHFX"
      },
      "execution_count": 34,
      "outputs": []
    },
    {
      "cell_type": "code",
      "source": [
        "# Crear una tabla medals\n",
        "query = \"\"\"CREATE TABLE IF NOT EXISTS medals (\n",
        "             Year INTEGER,\n",
        "             City TEXT,\n",
        "             Sport TEXT,\n",
        "             Discipline TEXT,\n",
        "             NOC TEXT,\n",
        "             Event TEXT,\n",
        "             'Event gender' TEXT,\n",
        "             Medal TEXT\n",
        "            )\"\"\"\n",
        "\n",
        "cursor.execute(query)\n",
        "conn.commit()"
      ],
      "metadata": {
        "id": "PSFzYxF6BfKF"
      },
      "execution_count": 35,
      "outputs": []
    },
    {
      "cell_type": "code",
      "source": [
        "#Guardar en la base de datos. los datos generados en el sub dataset\n",
        "gold.to_sql('medal', con = conn, if_exists='replace')"
      ],
      "metadata": {
        "id": "omGt9o9EK1Oy"
      },
      "execution_count": 29,
      "outputs": []
    },
    {
      "cell_type": "code",
      "source": [
        "# Seleccionar todos los datos utilizando fetchall\n",
        "query = \"SELECT * FROM medal\"\n",
        "cursor.execute(query)\n",
        "results = cursor.fetchall()\n",
        "for r in results:\n",
        "    print(r)"
      ],
      "metadata": {
        "id": "DLuWhg0MbhO4"
      },
      "execution_count": null,
      "outputs": []
    }
  ]
}